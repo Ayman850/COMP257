{
  "nbformat": 4,
  "nbformat_minor": 0,
  "metadata": {
    "colab": {
      "private_outputs": true,
      "provenance": [],
      "authorship_tag": "ABX9TyN5S0RGuq53hGr50atA/xCN",
      "include_colab_link": true
    },
    "kernelspec": {
      "name": "python3",
      "display_name": "Python 3"
    },
    "language_info": {
      "name": "python"
    }
  },
  "cells": [
    {
      "cell_type": "markdown",
      "metadata": {
        "id": "view-in-github",
        "colab_type": "text"
      },
      "source": [
        "<a href=\"https://colab.research.google.com/github/Ayman850/COMP257/blob/main/Assignment1_aymanyasin.ipynb\" target=\"_parent\"><img src=\"https://colab.research.google.com/assets/colab-badge.svg\" alt=\"Open In Colab\"/></a>"
      ]
    },
    {
      "cell_type": "markdown",
      "source": [
        "#Assignment1"
      ],
      "metadata": {
        "id": "9Z1KFbOIxg9H"
      }
    },
    {
      "cell_type": "markdown",
      "source": [
        "#Question 1"
      ],
      "metadata": {
        "id": "bnoY0VEDxlkG"
      }
    },
    {
      "cell_type": "code",
      "execution_count": null,
      "metadata": {
        "id": "9GlE1ddBw98b"
      },
      "outputs": [],
      "source": [
        "## Imports\n",
        "\n",
        "import matplotlib.pyplot as plt\n",
        "import numpy as np\n",
        "from sklearn.datasets import fetch_openml\n",
        "from sklearn.decomposition import PCA, IncrementalPCA"
      ]
    },
    {
      "cell_type": "code",
      "source": [
        "def display_digit(X, y):\n",
        "    image = np.reshape(X, (28, 28))\n",
        "    plt.title(f\"Label: {y}\")\n",
        "    plt.imshow(image, cmap='gray')\n",
        "    plt.axis('off')"
      ],
      "metadata": {
        "id": "qbEUXHYAxssV"
      },
      "execution_count": null,
      "outputs": []
    },
    {
      "cell_type": "markdown",
      "source": [
        "## 1. Retrieve & load mnist_784"
      ],
      "metadata": {
        "id": "aNiTRd0VxzzX"
      }
    },
    {
      "cell_type": "code",
      "source": [
        "mnist = fetch_openml(data_id=554)\n"
      ],
      "metadata": {
        "id": "fHOm9-FUxw47"
      },
      "execution_count": null,
      "outputs": []
    },
    {
      "cell_type": "code",
      "source": [
        "X = mnist.data\n",
        "y = mnist.target"
      ],
      "metadata": {
        "id": "YKIXxAP7x8PA"
      },
      "execution_count": null,
      "outputs": []
    },
    {
      "cell_type": "code",
      "source": [
        "X.shape"
      ],
      "metadata": {
        "id": "_0FC12yVyB6t"
      },
      "execution_count": null,
      "outputs": []
    },
    {
      "cell_type": "code",
      "source": [
        "y.shape"
      ],
      "metadata": {
        "id": "YdG048puyFPA"
      },
      "execution_count": null,
      "outputs": []
    },
    {
      "cell_type": "markdown",
      "source": [
        "## 2. Display each digit"
      ],
      "metadata": {
        "id": "yMgFg1O3yLqk"
      }
    },
    {
      "cell_type": "code",
      "source": [
        "plt.figure(figsize=(10, 5))\n",
        "for digit in range(10):\n",
        "    index = np.where(y == str(digit))[0][0]\n",
        "    plt.subplot(2, 5, digit + 1)\n",
        "    display_digit(X.iloc[index].to_numpy(), y.iloc[index])\n",
        "plt.tight_layout()\n",
        "plt.show()"
      ],
      "metadata": {
        "id": "-0WGqmfRyOT6"
      },
      "execution_count": null,
      "outputs": []
    },
    {
      "cell_type": "markdown",
      "source": [
        "## 3. Use PCA to retrieve the 1st & 2nd principal components and output their explained variance ratio."
      ],
      "metadata": {
        "id": "k_t42sS0yVpH"
      }
    },
    {
      "cell_type": "code",
      "source": [
        "pca = PCA(n_components=2)\n",
        "X_pca_sklearn = pca.fit_transform(X)\n",
        "\n",
        "X_pca_sklearn.shape\n"
      ],
      "metadata": {
        "id": "j-nzZ35PyWqg"
      },
      "execution_count": null,
      "outputs": []
    },
    {
      "cell_type": "code",
      "source": [
        "explained_variance_ratio = pca.explained_variance_ratio_\n",
        "print(explained_variance_ratio)"
      ],
      "metadata": {
        "id": "EgZvaRIQyg6X"
      },
      "execution_count": null,
      "outputs": []
    },
    {
      "cell_type": "markdown",
      "source": [
        "## 4. Plot the projections of the 1st and 2nd principal components onto 1D hyperplane."
      ],
      "metadata": {
        "id": "MPh2UZwCynNH"
      }
    },
    {
      "cell_type": "code",
      "source": [
        "pc1 = X_pca_sklearn[:, 0]\n",
        "pc2 = X_pca_sklearn[:, 1]"
      ],
      "metadata": {
        "id": "oPJ2SshtyoA_"
      },
      "execution_count": null,
      "outputs": []
    },
    {
      "cell_type": "code",
      "source": [
        "plt.figure(figsize=(10, 5))\n",
        "\n",
        "# Plot first PC\n",
        "plt.subplot(1, 2, 1)\n",
        "plt.scatter(pc1, np.zeros_like(pc1), alpha=0.5, c='red', label='PC1')\n",
        "plt.title('Projection of PC1 onto 1D Hyperplane')\n",
        "plt.xlabel('PC1')\n",
        "plt.yticks([])  # Remove y-axis ticks as it's a 1D plot\n",
        "plt.grid(True)\n",
        "\n",
        "# Plot second PC\n",
        "plt.subplot(1, 2, 2)\n",
        "plt.scatter(pc2, np.zeros_like(pc2), alpha=0.5, c='blue', label='PC2')\n",
        "plt.title('Projection of PC2 onto 1D Hyperplane')\n",
        "plt.xlabel('PC2')\n",
        "plt.yticks([])  # Remove y-axis ticks as it's a 1D plot\n",
        "plt.grid(True)\n",
        "\n",
        "plt.tight_layout()\n",
        "plt.show()"
      ],
      "metadata": {
        "id": "zIHSS6i2yss4"
      },
      "execution_count": null,
      "outputs": []
    },
    {
      "cell_type": "markdown",
      "source": [
        "5. Use Incremental PCA to reduce the dimensionality of the MNIST dataset down to 154 dimensions."
      ],
      "metadata": {
        "id": "vxSKkBL8zAa6"
      }
    },
    {
      "cell_type": "code",
      "source": [
        "inc_pca = IncrementalPCA(n_components=154)\n",
        "X_ipca_sklearn = inc_pca.fit_transform(X)\n",
        "\n",
        "\n",
        "sum(inc_pca.explained_variance_ratio_)"
      ],
      "metadata": {
        "id": "mD0x8hnSzBM6"
      },
      "execution_count": null,
      "outputs": []
    },
    {
      "cell_type": "code",
      "source": [
        "X_ipca_sklearn.shape"
      ],
      "metadata": {
        "id": "nZm-60dfzHcN"
      },
      "execution_count": null,
      "outputs": []
    },
    {
      "cell_type": "markdown",
      "source": [
        "## 6. Display original and compressed digits from (5)."
      ],
      "metadata": {
        "id": "i3uIADYMzyyW"
      }
    },
    {
      "cell_type": "code",
      "source": [
        "X_compressed = inc_pca.inverse_transform(X_ipca_sklearn)"
      ],
      "metadata": {
        "id": "A-8WDAHozzj5"
      },
      "execution_count": null,
      "outputs": []
    },
    {
      "cell_type": "code",
      "source": [
        "plt.figure(figsize=(10, 5))\n",
        "\n",
        "# Display the original digits\n",
        "for digit in range(10):\n",
        "    index = np.where(y == str(digit))[0][0]\n",
        "    plt.subplot(2, 5, digit + 1)\n",
        "    display_digit(X.iloc[index].to_numpy(), y.iloc[index])  # Original data\n",
        "plt.suptitle('Original', fontsize=15)\n",
        "plt.tight_layout()\n",
        "plt.show()"
      ],
      "metadata": {
        "id": "HevJCgO8z7_A"
      },
      "execution_count": null,
      "outputs": []
    },
    {
      "cell_type": "code",
      "source": [
        "plt.figure(figsize=(10, 5))\n",
        "\n",
        "# Display the compressed digits\n",
        "for digit in range(10):\n",
        "    index = np.where(y == str(digit))[0][0]\n",
        "    plt.subplot(2, 5, digit + 1)\n",
        "    display_digit(X_compressed[index], y.iloc[index])  # Compressed data\n",
        "plt.suptitle('Compressed (using 154-D)', fontsize=15)\n",
        "plt.tight_layout()\n",
        "plt.show()"
      ],
      "metadata": {
        "id": "-VyT0BoJz923"
      },
      "execution_count": null,
      "outputs": []
    },
    {
      "cell_type": "code",
      "source": [
        "# Function to display original vs compressed image given the row index of the dataset\n",
        "def original_vs_compressed(original, compressed, index):\n",
        "    label = y[index]\n",
        "    plt.figure(figsize=(6, 3))\n",
        "    # Original\n",
        "    plt.subplot(1, 2, 1)\n",
        "    display_digit(original[index], label)\n",
        "    # Compressed\n",
        "    plt.subplot(1, 2, 2)\n",
        "    display_digit(compressed[index], label)\n",
        "    plt.suptitle('Original vs Compressed', fontsize=15)\n",
        "    plt.tight_layout()\n",
        "\n",
        "# Call the function for a specific index (e.g., 100)\n",
        "original_vs_compressed(X.to_numpy(), X_compressed, 100)"
      ],
      "metadata": {
        "id": "8w5hy7Z-0JWB"
      },
      "execution_count": null,
      "outputs": []
    },
    {
      "cell_type": "markdown",
      "source": [
        "# Question 2"
      ],
      "metadata": {
        "id": "Stw3df0C0Oyn"
      }
    },
    {
      "cell_type": "code",
      "source": [
        "## Imports\n",
        "\n",
        "import matplotlib.pyplot as plt\n",
        "import numpy as np\n",
        "from sklearn.datasets import make_swiss_roll\n",
        "from sklearn.decomposition import KernelPCA\n",
        "from sklearn.linear_model import LogisticRegression\n",
        "from sklearn.model_selection import GridSearchCV\n",
        "from sklearn.pipeline import Pipeline"
      ],
      "metadata": {
        "id": "kgxcg3Av0SWt"
      },
      "execution_count": null,
      "outputs": []
    },
    {
      "cell_type": "markdown",
      "source": [
        "## 1. Generate Swiss Roll"
      ],
      "metadata": {
        "id": "TzShZxUv1Iw3"
      }
    },
    {
      "cell_type": "code",
      "source": [
        "X, y = make_swiss_roll(n_samples=1500, random_state=0)\n",
        "\n",
        "print(X.shape)\n",
        "print(y.shape)"
      ],
      "metadata": {
        "id": "dTQJYiNP1H2F"
      },
      "execution_count": null,
      "outputs": []
    },
    {
      "cell_type": "markdown",
      "source": [
        "## 2. Plot Swiss Roll"
      ],
      "metadata": {
        "id": "9O38HHe01aaO"
      }
    },
    {
      "cell_type": "code",
      "source": [
        "fig = plt.figure(figsize=(8, 6))\n",
        "ax = fig.add_subplot(111, projection='3d')\n",
        "fig.add_axes(ax)\n",
        "ax.scatter(X[:, 0], X[:, 1], X[:, 2], c=y, s=50, alpha=0.8)\n",
        "plt.tight_layout()\n",
        "plt.show()"
      ],
      "metadata": {
        "id": "rfDLUvaj1bPJ"
      },
      "execution_count": null,
      "outputs": []
    },
    {
      "cell_type": "markdown",
      "source": [
        "## 3. Use Kernel PCA (kPCA) with linear kernel (2 points), a RBF kernel (2 points), and a sigmoid kernel."
      ],
      "metadata": {
        "id": "afg3oM-A1iOQ"
      }
    },
    {
      "cell_type": "code",
      "source": [
        "pca_linear = KernelPCA(n_components=2, kernel='linear')\n",
        "pca_rbf = KernelPCA(n_components=2, kernel='rbf', gamma=0.03)\n",
        "pca_sigmoid = KernelPCA(n_components=2, kernel='sigmoid', gamma=0.03)\n",
        "\n",
        "X_reduced_linear = pca_linear.fit_transform(X)\n",
        "X_reduced_rbf = pca_rbf.fit_transform(X)\n",
        "X_reduced_sigmoid = pca_sigmoid.fit_transform(X)"
      ],
      "metadata": {
        "id": "ji1iLtJp1je5"
      },
      "execution_count": null,
      "outputs": []
    },
    {
      "cell_type": "markdown",
      "source": [
        "## 4. Plot the kPCA results of applying the linear kernel (2 points), a RBF kernel (2 points), and a sigmoid kernel (2 points) from (3). Explain and compare the results."
      ],
      "metadata": {
        "id": "bhaFRDTA1uCI"
      }
    },
    {
      "cell_type": "code",
      "source": [
        "fig = plt.figure(figsize=(18,6))\n",
        "\n",
        "# Linear\n",
        "ax1 = fig.add_subplot(131)\n",
        "ax1.scatter(X_reduced_linear[:, 0], X_reduced_linear[:, 1], c=y)\n",
        "ax1.set_title('PCA Linear')\n",
        "ax1.set_xlabel('Principal Component 1')\n",
        "ax1.set_ylabel('Principal Component 2')\n",
        "\n",
        "# RBF\n",
        "ax2 = fig.add_subplot(132)\n",
        "ax2.scatter(X_reduced_rbf[:, 0], X_reduced_rbf[:, 1], c=y)\n",
        "ax2.set_title('PCA RBF (Gamma 0.04)')\n",
        "ax2.set_xlabel('Principal Component 1')\n",
        "ax2.set_ylabel('Principal Component 2')\n",
        "\n",
        "# Sigmoid\n",
        "ax3 = fig.add_subplot(133)\n",
        "ax3.scatter(X_reduced_sigmoid[:, 0], X_reduced_sigmoid[:, 1], c=y)\n",
        "ax3.set_title('PCA Sigmoid (Gamma 0.04)')\n",
        "ax3.set_xlabel('Principal Component 1')\n",
        "ax3.set_ylabel('Principal Component 2')\n",
        "\n",
        "plt.tight_layout()\n",
        "plt.show()"
      ],
      "metadata": {
        "id": "g3yLe00p1vQ_"
      },
      "execution_count": null,
      "outputs": []
    },
    {
      "cell_type": "markdown",
      "source": [
        "## 5. Apply Logistic Regression and GridSearchCV"
      ],
      "metadata": {
        "id": "Fe7KiT2u14nZ"
      }
    },
    {
      "cell_type": "code",
      "source": [
        "clf = Pipeline([\n",
        "    (\"kpca\", KernelPCA(n_components=2)),\n",
        "    (\"log_reg\", LogisticRegression())\n",
        "])\n",
        "\n",
        "param_grid = [{\n",
        "    \"kpca__gamma\": np.linspace(0.03, 0.05, 10),\n",
        "    \"kpca__kernel\": [\"rbf\", \"sigmoid\"]\n",
        "}]\n",
        "\n",
        "grid_search = GridSearchCV(clf, param_grid, cv=3)\n",
        "grid_search.fit(X, y.astype(int))\n"
      ],
      "metadata": {
        "id": "-XeeTcc715cH"
      },
      "execution_count": null,
      "outputs": []
    },
    {
      "cell_type": "code",
      "source": [
        "print(grid_search.best_params_)"
      ],
      "metadata": {
        "id": "ZBl6DCfX2EQg"
      },
      "execution_count": null,
      "outputs": []
    },
    {
      "cell_type": "code",
      "source": [
        "print(grid_search.best_score_)"
      ],
      "metadata": {
        "id": "zQdneHL02IZi"
      },
      "execution_count": null,
      "outputs": []
    },
    {
      "cell_type": "markdown",
      "source": [
        "## 6. Plot the results from using GridSearchCV in (5)."
      ],
      "metadata": {
        "id": "HTh4qlEO2LY0"
      }
    },
    {
      "cell_type": "code",
      "source": [
        "results = grid_search.cv_results_\n",
        "\n",
        "gamma_vals = results['param_kpca__gamma'].data\n",
        "kernel_vals = results['param_kpca__kernel'].data\n",
        "\n",
        "mean_test_scores = results['mean_test_score']\n",
        "kernels = np.unique(kernel_vals)\n",
        "\n",
        "plt.figure(figsize=(8, 6))\n",
        "\n",
        "for kernel in kernels:\n",
        "    print(kernel)\n",
        "    # Get the mask for the current kernel\n",
        "    mask = (kernel_vals == kernel)\n",
        "    print(mask)\n",
        "\n",
        "    # Plot gamma vs mean cross-validation score for this kernel\n",
        "    plt.plot(gamma_vals[mask], mean_test_scores[mask], label=f'Kernel: {kernel}')\n",
        "\n",
        "# Customize the plot\n",
        "plt.xlabel('Gamma')\n",
        "plt.ylabel('Mean Cross-Validation Accuracy')\n",
        "plt.title('GridSearchCV Results: Accuracy vs Gamma for Different Kernels')\n",
        "plt.legend()\n",
        "plt.grid(True)\n",
        "plt.show()"
      ],
      "metadata": {
        "id": "Ads9mJB22R6E"
      },
      "execution_count": null,
      "outputs": []
    }
  ]
}